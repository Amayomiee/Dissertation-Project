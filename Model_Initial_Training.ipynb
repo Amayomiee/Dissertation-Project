{
  "nbformat": 4,
  "nbformat_minor": 0,
  "metadata": {
    "colab": {
      "provenance": []
    },
    "kernelspec": {
      "name": "python3",
      "display_name": "Python 3"
    },
    "language_info": {
      "name": "python"
    }
  },
  "cells": [
    {
      "cell_type": "code",
      "execution_count": null,
      "metadata": {
        "colab": {
          "base_uri": "https://localhost:8080/"
        },
        "id": "pGiFV_2qyC2O",
        "outputId": "11d71ad2-11a7-4da7-a4a2-7322ee47e7f8"
      },
      "outputs": [
        {
          "output_type": "stream",
          "name": "stdout",
          "text": [
            "Drive already mounted at /content/drive; to attempt to forcibly remount, call drive.mount(\"/content/drive\", force_remount=True).\n"
          ]
        }
      ],
      "source": [
        "from google.colab import drive\n",
        "drive.mount('/content/drive')"
      ]
    },
    {
      "cell_type": "code",
      "source": [
        "import pandas as pd\n",
        "\n",
        "# Corrected file path\n",
        "file_path = '/content/drive/MyDrive/scraped_data.csv'\n",
        "data = pd.read_csv(file_path)"
      ],
      "metadata": {
        "id": "D88QzQ0JyH6k"
      },
      "execution_count": null,
      "outputs": []
    },
    {
      "cell_type": "code",
      "source": [
        "# Removing rows with missing text\n",
        "data.dropna(subset=['text'], inplace=True)"
      ],
      "metadata": {
        "id": "mteiGW0DyNSb"
      },
      "execution_count": null,
      "outputs": []
    },
    {
      "cell_type": "code",
      "source": [
        "import pandas as pd\n",
        "\n",
        "df = pd.DataFrame(data)"
      ],
      "metadata": {
        "id": "RXkFoBGryWc7"
      },
      "execution_count": null,
      "outputs": []
    },
    {
      "cell_type": "code",
      "source": [
        "# Adding a unique identifier column\n",
        "df['unique_id'] = range(1, len(df) + 1)"
      ],
      "metadata": {
        "id": "wmzJAOQZybCu"
      },
      "execution_count": null,
      "outputs": []
    },
    {
      "cell_type": "code",
      "source": [
        "# Creating a mask for posts based on the presence of a URL\n",
        "mask_posts = df['url'].notna()\n",
        "\n",
        "# Initializing a new column for the temporary thread identifier\n",
        "df['temp_thread_id'] = None\n",
        "\n",
        "# Assigning a unique identifier to each post\n",
        "df.loc[mask_posts, 'temp_thread_id'] = range(1, mask_posts.sum() + 1)\n",
        "\n",
        "# Forward-filling the temporary thread identifier to associate comments with their posts\n",
        "df['temp_thread_id'].ffill(inplace=True)\n",
        "\n",
        "# Creating a dictionary of post titles based on 'temp_thread_id'\n",
        "post_titles_dict = df[mask_posts].set_index('temp_thread_id')['title'].to_dict()\n",
        "\n",
        "# Mapping the post titles to all rows using 'temp_thread_id'\n",
        "df['post_title'] = df['temp_thread_id'].map(post_titles_dict)\n"
      ],
      "metadata": {
        "id": "_jOVBluwyfLc"
      },
      "execution_count": null,
      "outputs": []
    },
    {
      "cell_type": "code",
      "source": [
        "# Displaying the first few rows of the DataFrame to check the changes\n",
        "print(df[['unique_id', 'type', 'url', 'temp_thread_id', 'text','post_title']].head())\n"
      ],
      "metadata": {
        "colab": {
          "base_uri": "https://localhost:8080/"
        },
        "id": "xEFV3Csfyjlk",
        "outputId": "f142e55f-33a4-48b5-dd1b-84409cc7221b"
      },
      "execution_count": null,
      "outputs": [
        {
          "output_type": "stream",
          "name": "stdout",
          "text": [
            "   unique_id     type                                                url  \\\n",
            "0          1     post  https://www.reddit.com/r/rheumatoidarthritis/c...   \n",
            "1          2  comment                                                NaN   \n",
            "2          3  comment                                                NaN   \n",
            "3          4  comment                                                NaN   \n",
            "4          5  comment                                                NaN   \n",
            "\n",
            "   temp_thread_id                                               text  \\\n",
            "0               1  So it’s been a month since I started, and I ge...   \n",
            "1               1                  No, that's why I stopped using it   \n",
            "2               1  Mr dr just upped my dose of my folic acid to h...   \n",
            "3               1  I'm so sorry to hear about the nausea. I know ...   \n",
            "4               1  I haven’t seen it mentioned yet, but I take mi...   \n",
            "\n",
            "                                          post_title  \n",
            "0  Do you ever get past the nausea from Methotrex...  \n",
            "1  Do you ever get past the nausea from Methotrex...  \n",
            "2  Do you ever get past the nausea from Methotrex...  \n",
            "3  Do you ever get past the nausea from Methotrex...  \n",
            "4  Do you ever get past the nausea from Methotrex...  \n"
          ]
        }
      ]
    },
    {
      "cell_type": "code",
      "source": [
        "df['text'] = df['text'].str.lower()"
      ],
      "metadata": {
        "id": "XvLznp9Dyoui"
      },
      "execution_count": null,
      "outputs": []
    },
    {
      "cell_type": "code",
      "source": [
        "import re\n",
        "\n",
        "def remove_urls_and_emails(text):\n",
        "    # Removing URLs\n",
        "    text = re.sub(r'https?://\\S+|www\\.\\S+', '', text)\n",
        "    # Removing email addresses\n",
        "    text = re.sub(r'\\S*@\\S*\\s?', '', text)\n",
        "    return text\n",
        "\n",
        "df['cleaned_text'] = df['text'].apply(remove_urls_and_emails)"
      ],
      "metadata": {
        "id": "fV4lRC1DytnK"
      },
      "execution_count": null,
      "outputs": []
    },
    {
      "cell_type": "code",
      "source": [
        "# Dropping rows with empty strings or NaNs in the 'text' column\n",
        "df = df[df['cleaned_text'].notna() & (df['cleaned_text'].str.strip() != '')]"
      ],
      "metadata": {
        "id": "PgB-o8Puyyhu"
      },
      "execution_count": null,
      "outputs": []
    },
    {
      "cell_type": "code",
      "source": [
        "df['text_with_context'] = df['post_title'] + \" [SEP] \" + df['cleaned_text']"
      ],
      "metadata": {
        "colab": {
          "base_uri": "https://localhost:8080/"
        },
        "id": "ib3rL5-By2DS",
        "outputId": "7b9df92e-f057-4ea4-c5db-3ca87bfbc295"
      },
      "execution_count": null,
      "outputs": [
        {
          "output_type": "stream",
          "name": "stderr",
          "text": [
            "<ipython-input-37-e5d3f819e410>:1: SettingWithCopyWarning: \n",
            "A value is trying to be set on a copy of a slice from a DataFrame.\n",
            "Try using .loc[row_indexer,col_indexer] = value instead\n",
            "\n",
            "See the caveats in the documentation: https://pandas.pydata.org/pandas-docs/stable/user_guide/indexing.html#returning-a-view-versus-a-copy\n",
            "  df['text_with_context'] = df['post_title'] + \" [SEP] \" + df['cleaned_text']\n"
          ]
        }
      ]
    },
    {
      "cell_type": "code",
      "source": [
        "import pandas as pd\n",
        "\n",
        "# Defining the sample size for model training\n",
        "sample_size = 360\n",
        "\n",
        "# Generating a random sample\n",
        "sampled_df = df.sample(n=sample_size, random_state=42)\n",
        "\n",
        "# Saving the sampled data for annotation\n",
        "sampled_df.to_csv('/content/drive/MyDrive/sampled_data_for_annotation.csv', index=False)"
      ],
      "metadata": {
        "id": "oOkYP-qiy8Ux"
      },
      "execution_count": null,
      "outputs": []
    },
    {
      "cell_type": "code",
      "source": [
        "# Getting unique IDs of the sampled data\n",
        "sampled_ids = set(sampled_df['unique_id'])\n",
        "\n",
        "# Filtering out these IDs from the full dataset\n",
        "validation_df = df[~df['unique_id'].isin(sampled_ids)]\n",
        "\n",
        "# Saving the validation data (main dataset for sentiment prediction)\n",
        "validation_df.to_csv('/content/drive/MyDrive/validation_data.csv', index=False)"
      ],
      "metadata": {
        "id": "2ZBnIgZwzD9E"
      },
      "execution_count": null,
      "outputs": []
    },
    {
      "cell_type": "code",
      "source": [
        "import pandas as pd\n",
        "\n",
        "# Loading the manually annotated dataset\n",
        "df = pd.read_csv(\"/content/Duplicate Annontation data.csv\")\n",
        "\n",
        "# Transforming the labels from -2 to +2 scale to 0 to 4 scale\n",
        "df['transformed_label'] = df['sentiment_score'] + 2"
      ],
      "metadata": {
        "id": "IMAB8ChUzUYO"
      },
      "execution_count": null,
      "outputs": []
    },
    {
      "cell_type": "code",
      "source": [
        "# Importing necessary libraries for fine-tuning DistilBERT\n",
        "from transformers import DistilBertTokenizer, DistilBertForSequenceClassification, AdamW\n",
        "from torch.utils.data import DataLoader, Dataset\n",
        "import pandas as pd\n",
        "from sklearn.model_selection import train_test_split\n",
        "import torch\n"
      ],
      "metadata": {
        "id": "NOFtvvBfy7N7"
      },
      "execution_count": null,
      "outputs": []
    },
    {
      "cell_type": "code",
      "source": [
        "# Initializing a DistilBERT tokenizer by loading the 'distilbert-base-uncased' pre-trained model\n",
        "tokenizer = DistilBertTokenizer.from_pretrained('distilbert-base-uncased')\n"
      ],
      "metadata": {
        "id": "KeizXWlizEZD"
      },
      "execution_count": null,
      "outputs": []
    },
    {
      "cell_type": "code",
      "source": [
        "\"\"\"\n",
        "Custom dataset class 'SentimentDataset' for handling text and label data.\n",
        "It uses a tokenizer to encode text inputs with specified settings such as max length, padding, and attention masks.\n",
        "Implements the __len__ and __getitem__ methods to enable an easy integration with PyTorch DataLoader for sentiment analysis tasks.\n",
        "\"\"\"\n",
        "\n",
        "class SentimentDataset(Dataset):\n",
        "    def __init__(self, texts, labels, tokenizer, max_len):\n",
        "        self.texts = texts\n",
        "        self.labels = labels\n",
        "        self.tokenizer = tokenizer\n",
        "        self.max_len = max_len\n",
        "\n",
        "    def __len__(self):\n",
        "        return len(self.texts)\n",
        "\n",
        "    def __getitem__(self, idx):\n",
        "        text = str(self.texts[idx])\n",
        "        label = self.labels[idx]\n",
        "\n",
        "        encoding = self.tokenizer.encode_plus(\n",
        "            text,\n",
        "            add_special_tokens=True,\n",
        "            max_length=self.max_len,\n",
        "            return_token_type_ids=False,\n",
        "            padding='max_length',\n",
        "            return_attention_mask=True,\n",
        "            return_tensors='pt',\n",
        "            truncation=True\n",
        "        )\n",
        "\n",
        "        return {\n",
        "            'input_ids': encoding['input_ids'].flatten(),\n",
        "            'attention_mask': encoding['attention_mask'].flatten(),\n",
        "            'labels': torch.tensor(label, dtype=torch.long)\n",
        "        }\n"
      ],
      "metadata": {
        "id": "RAEixOrWzJee"
      },
      "execution_count": null,
      "outputs": []
    },
    {
      "cell_type": "code",
      "source": [
        "# First split: Separating training set and a temporary set (combining validation and test)\n",
        "train_df, temp_df = train_test_split(df, test_size=0.3, random_state=42)\n",
        "\n",
        "# Second split: Separating the temporary set into validation and test sets\n",
        "val_df, test_df = train_test_split(temp_df, test_size=0.5, random_state=42)\n"
      ],
      "metadata": {
        "id": "MQm74d-Z0xCD"
      },
      "execution_count": null,
      "outputs": []
    },
    {
      "cell_type": "code",
      "source": [
        "train_dataset = SentimentDataset(\n",
        "    train_df['text_with_context'].to_numpy(),\n",
        "    train_df['transformed_label'].to_numpy(),\n",
        "    tokenizer,\n",
        "    max_len=196\n",
        ")\n",
        "\n",
        "val_dataset = SentimentDataset(\n",
        "    val_df['text_with_context'].to_numpy(),\n",
        "    val_df['transformed_label'].to_numpy(),\n",
        "    tokenizer,\n",
        "    max_len=196\n",
        ")\n"
      ],
      "metadata": {
        "id": "6oYnOwsk02uV"
      },
      "execution_count": null,
      "outputs": []
    },
    {
      "cell_type": "code",
      "source": [
        "test_dataset = SentimentDataset(\n",
        "    test_df['text_with_context'].to_numpy(),\n",
        "    test_df['transformed_label'].to_numpy(),\n",
        "    tokenizer,\n",
        "    max_len=196\n",
        ")\n"
      ],
      "metadata": {
        "id": "Yk-2iw5K0_E2"
      },
      "execution_count": null,
      "outputs": []
    },
    {
      "cell_type": "code",
      "source": [
        "train_loader = DataLoader(train_dataset, batch_size=16, shuffle=True)\n",
        "val_loader = DataLoader(val_dataset, batch_size=16)\n"
      ],
      "metadata": {
        "id": "u-EUaQrB1XpN"
      },
      "execution_count": null,
      "outputs": []
    },
    {
      "cell_type": "code",
      "source": [
        "#Specifying the number of labels\n",
        "model = DistilBertForSequenceClassification.from_pretrained(\n",
        "    'distilbert-base-uncased',\n",
        "    num_labels=5\n",
        ")\n",
        "\n",
        "# Moving model to GPU if available\n",
        "device = torch.device('cuda' if torch.cuda.is_available() else 'cpu')\n",
        "model.to(device)\n"
      ],
      "metadata": {
        "colab": {
          "base_uri": "https://localhost:8080/"
        },
        "id": "f-UrUaUd1hjf",
        "outputId": "2a0b6db9-9159-4b9b-db45-72307c807ec3"
      },
      "execution_count": null,
      "outputs": [
        {
          "output_type": "stream",
          "name": "stderr",
          "text": [
            "Some weights of DistilBertForSequenceClassification were not initialized from the model checkpoint at distilbert-base-uncased and are newly initialized: ['classifier.weight', 'pre_classifier.weight', 'pre_classifier.bias', 'classifier.bias']\n",
            "You should probably TRAIN this model on a down-stream task to be able to use it for predictions and inference.\n"
          ]
        },
        {
          "output_type": "execute_result",
          "data": {
            "text/plain": [
              "DistilBertForSequenceClassification(\n",
              "  (distilbert): DistilBertModel(\n",
              "    (embeddings): Embeddings(\n",
              "      (word_embeddings): Embedding(30522, 768, padding_idx=0)\n",
              "      (position_embeddings): Embedding(512, 768)\n",
              "      (LayerNorm): LayerNorm((768,), eps=1e-12, elementwise_affine=True)\n",
              "      (dropout): Dropout(p=0.1, inplace=False)\n",
              "    )\n",
              "    (transformer): Transformer(\n",
              "      (layer): ModuleList(\n",
              "        (0-5): 6 x TransformerBlock(\n",
              "          (attention): MultiHeadSelfAttention(\n",
              "            (dropout): Dropout(p=0.1, inplace=False)\n",
              "            (q_lin): Linear(in_features=768, out_features=768, bias=True)\n",
              "            (k_lin): Linear(in_features=768, out_features=768, bias=True)\n",
              "            (v_lin): Linear(in_features=768, out_features=768, bias=True)\n",
              "            (out_lin): Linear(in_features=768, out_features=768, bias=True)\n",
              "          )\n",
              "          (sa_layer_norm): LayerNorm((768,), eps=1e-12, elementwise_affine=True)\n",
              "          (ffn): FFN(\n",
              "            (dropout): Dropout(p=0.1, inplace=False)\n",
              "            (lin1): Linear(in_features=768, out_features=3072, bias=True)\n",
              "            (lin2): Linear(in_features=3072, out_features=768, bias=True)\n",
              "            (activation): GELUActivation()\n",
              "          )\n",
              "          (output_layer_norm): LayerNorm((768,), eps=1e-12, elementwise_affine=True)\n",
              "        )\n",
              "      )\n",
              "    )\n",
              "  )\n",
              "  (pre_classifier): Linear(in_features=768, out_features=768, bias=True)\n",
              "  (classifier): Linear(in_features=768, out_features=5, bias=True)\n",
              "  (dropout): Dropout(p=0.2, inplace=False)\n",
              ")"
            ]
          },
          "metadata": {},
          "execution_count": 48
        }
      ]
    },
    {
      "cell_type": "code",
      "source": [
        "# Importing the AdamW optimizer\n",
        "from torch.optim import AdamW"
      ],
      "metadata": {
        "id": "PAWCZM_E21JL"
      },
      "execution_count": null,
      "outputs": []
    },
    {
      "cell_type": "code",
      "source": [
        "# Initializing the AdamW optimizer with a learning rate of 5e-5\n",
        "optimizer = AdamW(model.parameters(), lr=5e-5)\n"
      ],
      "metadata": {
        "colab": {
          "base_uri": "https://localhost:8080/"
        },
        "id": "dLus2YI82ET_",
        "outputId": "9a9139f1-768f-4eec-fe86-c579d7c00df5"
      },
      "execution_count": null,
      "outputs": [
        {
          "output_type": "stream",
          "name": "stderr",
          "text": [
            "/usr/local/lib/python3.10/dist-packages/transformers/optimization.py:411: FutureWarning: This implementation of AdamW is deprecated and will be removed in a future version. Use the PyTorch implementation torch.optim.AdamW instead, or set `no_deprecation_warning=True` to disable this warning\n",
            "  warnings.warn(\n"
          ]
        }
      ]
    },
    {
      "cell_type": "code",
      "source": [
        "num_epochs = 5\n",
        "for epoch in range(num_epochs):\n",
        "    # Training step\n",
        "    model.train()\n",
        "    for batch in train_loader:\n",
        "        input_ids = batch['input_ids'].to(device)\n",
        "        attention_mask = batch['attention_mask'].to(device)\n",
        "        labels = batch['labels'].to(device)\n",
        "\n",
        "        outputs = model(input_ids, attention_mask, labels=labels)\n",
        "        loss = outputs.loss\n",
        "\n",
        "        optimizer.zero_grad()\n",
        "        loss.backward()\n",
        "        optimizer.step()\n",
        "\n",
        "    # Validation step\n",
        "    model.eval()\n",
        "    with torch.no_grad():\n",
        "        for batch in val_loader:\n",
        "            input_ids = batch['input_ids'].to(device)\n",
        "            attention_mask = batch['attention_mask'].to(device)\n",
        "            labels = batch['labels'].to(device)\n",
        "\n",
        "            outputs = model(input_ids, attention_mask, labels=labels)\n",
        "            val_loss = outputs.loss.item()\n",
        "\n",
        "\n",
        "    print(f\"Epoch {epoch+1}, Training Loss: {loss.item()}, Validation Loss: {val_loss}\")\n"
      ],
      "metadata": {
        "colab": {
          "base_uri": "https://localhost:8080/"
        },
        "id": "twXKVaHYDYFA",
        "outputId": "f5cb130e-c7fa-4833-a747-31491bf9e104"
      },
      "execution_count": null,
      "outputs": [
        {
          "output_type": "stream",
          "name": "stdout",
          "text": [
            "Epoch 1, Training Loss: 1.679408073425293, Validation Loss: 1.3970937728881836\n",
            "Epoch 2, Training Loss: 1.6894502639770508, Validation Loss: 1.3119802474975586\n",
            "Epoch 3, Training Loss: 0.6885815858840942, Validation Loss: 1.2540770769119263\n",
            "Epoch 4, Training Loss: 0.813917338848114, Validation Loss: 1.1884666681289673\n",
            "Epoch 5, Training Loss: 0.6890474557876587, Validation Loss: 1.1330797672271729\n"
          ]
        }
      ]
    },
    {
      "cell_type": "code",
      "source": [
        "!pip install pandas openpyxl\n"
      ],
      "metadata": {
        "colab": {
          "base_uri": "https://localhost:8080/"
        },
        "id": "vjND53CAIbmU",
        "outputId": "f33df4d5-33cf-4e92-ccda-2dc6f767c68e"
      },
      "execution_count": null,
      "outputs": [
        {
          "output_type": "stream",
          "name": "stdout",
          "text": [
            "Requirement already satisfied: pandas in /usr/local/lib/python3.10/dist-packages (1.5.3)\n",
            "Requirement already satisfied: openpyxl in /usr/local/lib/python3.10/dist-packages (3.1.2)\n",
            "Requirement already satisfied: python-dateutil>=2.8.1 in /usr/local/lib/python3.10/dist-packages (from pandas) (2.8.2)\n",
            "Requirement already satisfied: pytz>=2020.1 in /usr/local/lib/python3.10/dist-packages (from pandas) (2023.3.post1)\n",
            "Requirement already satisfied: numpy>=1.21.0 in /usr/local/lib/python3.10/dist-packages (from pandas) (1.23.5)\n",
            "Requirement already satisfied: et-xmlfile in /usr/local/lib/python3.10/dist-packages (from openpyxl) (1.1.0)\n",
            "Requirement already satisfied: six>=1.5 in /usr/local/lib/python3.10/dist-packages (from python-dateutil>=2.8.1->pandas) (1.16.0)\n"
          ]
        }
      ]
    },
    {
      "cell_type": "code",
      "source": [
        "import pandas as pd\n",
        "\n",
        "data = {\n",
        "    'Epoch': range(1, 6),\n",
        "    'Training Loss': [1.6794, 1.6895, 0.6886, 0.8139, 0.6890],\n",
        "    'Validation Loss': [1.3971, 1.3120, 1.2541, 1.1885, 1.1331]\n",
        "}\n",
        "\n",
        "df = pd.DataFrame(data)\n"
      ],
      "metadata": {
        "id": "_8SRQF88IsFX"
      },
      "execution_count": null,
      "outputs": []
    },
    {
      "cell_type": "code",
      "source": [
        "# Save as CSV\n",
        "df.to_csv('losses_data.csv', index=False)"
      ],
      "metadata": {
        "id": "x8E9ncIjIvzk"
      },
      "execution_count": null,
      "outputs": []
    },
    {
      "cell_type": "code",
      "source": [
        "import matplotlib.pyplot as plt\n",
        "import seaborn as sns\n",
        "\n",
        "# Loading data from CSV or Excel\n",
        "df = pd.read_csv('losses_data.csv')\n",
        "\n",
        "# Plotting the training and validation loss trends over epochs\n",
        "sns.set(style=\"whitegrid\")\n",
        "plt.figure(figsize=(10, 6))\n",
        "sns.lineplot(data=df.melt('Epoch', var_name='Loss Type', value_name='Loss'), x='Epoch', y='Loss', hue='Loss Type', marker='o')\n",
        "plt.title('Training and Validation Loss Trends Over Epochs')\n",
        "plt.show()\n"
      ],
      "metadata": {
        "colab": {
          "base_uri": "https://localhost:8080/",
          "height": 573
        },
        "id": "9MyWNTiEI4Z0",
        "outputId": "20c11bc4-1647-4279-bad8-a811c36c6e08"
      },
      "execution_count": null,
      "outputs": [
        {
          "output_type": "display_data",
          "data": {
            "text/plain": [
              "<Figure size 1000x600 with 1 Axes>"
            ],
            "image/png": "[encoded data removed]"
          },
          "metadata": {}
        }
      ]
    },
    {
      "cell_type": "code",
      "source": [
        "# Specifying the save path for the model after training task\n",
        "save_path = \"/content/drive/MyDrive/MyModelFolder\"\n",
        "\n",
        "# Saving the model\n",
        "model.save_pretrained(save_path)\n",
        "\n",
        "# Saving the tokenizer\n",
        "tokenizer.save_pretrained(save_path)\n"
      ],
      "metadata": {
        "colab": {
          "base_uri": "https://localhost:8080/"
        },
        "id": "cyxE-zxJL-Vp",
        "outputId": "dfdec3ee-6a25-4942-92ec-32ec200e8fd2"
      },
      "execution_count": null,
      "outputs": [
        {
          "output_type": "execute_result",
          "data": {
            "text/plain": [
              "('/content/drive/MyDrive/MyModelFolder/tokenizer_config.json',\n",
              " '/content/drive/MyDrive/MyModelFolder/special_tokens_map.json',\n",
              " '/content/drive/MyDrive/MyModelFolder/vocab.txt',\n",
              " '/content/drive/MyDrive/MyModelFolder/added_tokens.json')"
            ]
          },
          "metadata": {},
          "execution_count": 52
        }
      ]
    }
  ]
}