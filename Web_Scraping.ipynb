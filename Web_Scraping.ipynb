{
  "nbformat": 4,
  "nbformat_minor": 0,
  "metadata": {
    "colab": {
      "provenance": []
    },
    "kernelspec": {
      "name": "python3",
      "display_name": "Python 3"
    },
    "language_info": {
      "name": "python"
    }
  },
  "cells": [
    {
      "cell_type": "code",
      "source": [
        "# Installing the 'praw' and 'ratelimiter' packages using the pip package manager\n",
        "\n",
        "!pip install praw ratelimiter\n"
      ],
      "metadata": {
        "colab": {
          "base_uri": "https://localhost:8080/"
        },
        "id": "wVNNKBk31Ozy",
        "outputId": "3af7c14a-0086-4963-b05e-dd7a2f08f64a"
      },
      "execution_count": null,
      "outputs": [
        {
          "output_type": "stream",
          "name": "stdout",
          "text": [
            "Collecting praw\n",
            "  Downloading praw-7.7.1-py3-none-any.whl (191 kB)\n",
            "\u001b[2K     \u001b[90m━━━━━━━━━━━━━━━━━━━━━━━━━━━━━━━━━━━━━━━━\u001b[0m \u001b[32m191.0/191.0 kB\u001b[0m \u001b[31m2.9 MB/s\u001b[0m eta \u001b[36m0:00:00\u001b[0m\n",
            "\u001b[?25hCollecting ratelimiter\n",
            "  Downloading ratelimiter-1.2.0.post0-py3-none-any.whl (6.6 kB)\n",
            "Collecting prawcore<3,>=2.1 (from praw)\n",
            "  Downloading prawcore-2.4.0-py3-none-any.whl (17 kB)\n",
            "Collecting update-checker>=0.18 (from praw)\n",
            "  Downloading update_checker-0.18.0-py3-none-any.whl (7.0 kB)\n",
            "Requirement already satisfied: websocket-client>=0.54.0 in /usr/local/lib/python3.10/dist-packages (from praw) (1.6.4)\n",
            "Requirement already satisfied: requests<3.0,>=2.6.0 in /usr/local/lib/python3.10/dist-packages (from prawcore<3,>=2.1->praw) (2.31.0)\n",
            "Requirement already satisfied: charset-normalizer<4,>=2 in /usr/local/lib/python3.10/dist-packages (from requests<3.0,>=2.6.0->prawcore<3,>=2.1->praw) (3.3.0)\n",
            "Requirement already satisfied: idna<4,>=2.5 in /usr/local/lib/python3.10/dist-packages (from requests<3.0,>=2.6.0->prawcore<3,>=2.1->praw) (3.4)\n",
            "Requirement already satisfied: urllib3<3,>=1.21.1 in /usr/local/lib/python3.10/dist-packages (from requests<3.0,>=2.6.0->prawcore<3,>=2.1->praw) (2.0.7)\n",
            "Requirement already satisfied: certifi>=2017.4.17 in /usr/local/lib/python3.10/dist-packages (from requests<3.0,>=2.6.0->prawcore<3,>=2.1->praw) (2023.7.22)\n",
            "Installing collected packages: ratelimiter, update-checker, prawcore, praw\n",
            "Successfully installed praw-7.7.1 prawcore-2.4.0 ratelimiter-1.2.0.post0 update-checker-0.18.0\n"
          ]
        }
      ]
    },
    {
      "cell_type": "code",
      "execution_count": null,
      "metadata": {
        "id": "Jue4g8Ro0PrD"
      },
      "outputs": [],
      "source": [
        "import praw\n",
        "import time\n",
        "from ratelimiter import RateLimiter"
      ]
    },
    {
      "cell_type": "code",
      "source": [
        "import csv\n"
      ],
      "metadata": {
        "id": "6_w8RuDZb9bP"
      },
      "execution_count": null,
      "outputs": []
    },
    {
      "cell_type": "code",
      "source": [
        "# Setting up the Reddit API client\n",
        "reddit = praw.Reddit(\n",
        "    client_id='gnb67sVnHPSBfy-77dLXtA',\n",
        "    client_secret='UM3yQxj_0HdDHmGSWt2APmJXoBUoHA',\n",
        "    user_agent='script:MyStudyScraperApp:v1.0 (by /u/Suspicious_Video_367)'\n",
        ")\n",
        "\n",
        "# Defining the subreddits and search terms\n",
        "subreddits = ['rheumatoidarthritis']\n",
        "search_terms = ['Methotrexate', 'mtx','Meloxicam', 'Sulfasalazine', 'Hydroxychloroquine', 'Leflunomide','Cyclosporine']\n",
        "\n",
        "def process_submission(submission, csv_writer):\n",
        "    # Saving submission details\n",
        "    csv_writer.writerow([submission.title, 'post', submission.selftext, submission.score, submission.id, submission.url, submission.created])\n",
        "\n",
        "    # Expanding the comment tree of the submission\n",
        "    submission.comments.replace_more(limit=0)\n",
        "    comments = submission.comments.list()\n",
        "\n",
        "    # Saving comments\n",
        "    for comment in comments:\n",
        "        # Check if the comment has a body\n",
        "        if comment.body:\n",
        "            csv_writer.writerow([submission.title, 'comment', comment.body, comment.score, comment.id, '', comment.created])\n",
        "\n",
        "# Main loop for scraping\n",
        "with open('scraped_data.csv', mode='w', newline='', encoding='utf-8') as file:\n",
        "    csv_writer = csv.writer(file)\n",
        "    csv_writer.writerow(['title', 'type', 'text', 'score', 'id', 'url', 'created'])  # Header row\n",
        "\n",
        "    for subreddit_name in subreddits:\n",
        "        subreddit = reddit.subreddit(subreddit_name)\n",
        "\n",
        "        for term in search_terms:\n",
        "            query = term\n",
        "\n",
        "            try:\n",
        "                submissions = subreddit.search(query, sort='comments', time_filter='year', limit=100)\n",
        "\n",
        "                submissions_list = list(submissions)\n",
        "                if not submissions_list:\n",
        "                    print(f\"No results for '{term}' in '{subreddit_name}'\")\n",
        "                    continue\n",
        "\n",
        "                for submission in submissions_list:\n",
        "                    process_submission(submission, csv_writer)\n",
        "\n",
        "                time.sleep(2)  # Handling rate limits\n",
        "\n",
        "            except praw.exceptions.APIException as e:\n",
        "                print(f\"API Exception: {e}\")\n",
        "                time.sleep(10)\n",
        "            except praw.exceptions.ClientException as e:\n",
        "                print(f\"Client Exception: {e}\")\n",
        "                time.sleep(10)\n",
        "            except Exception as e:\n",
        "                print(f\"An unexpected error occurred: {e}\")\n",
        "                time.sleep(10)"
      ],
      "metadata": {
        "id": "P5lSGBMB1nqS"
      },
      "execution_count": null,
      "outputs": []
    }
  ]
}