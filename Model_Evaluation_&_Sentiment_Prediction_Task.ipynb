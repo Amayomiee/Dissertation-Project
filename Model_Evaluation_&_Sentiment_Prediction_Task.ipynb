{
  "nbformat": 4,
  "nbformat_minor": 0,
  "metadata": {
    "colab": {
      "provenance": []
    },
    "kernelspec": {
      "name": "python3",
      "display_name": "Python 3"
    },
    "language_info": {
      "name": "python"
    }
  },
  "cells": [
    {
      "cell_type": "code",
      "execution_count": null,
      "metadata": {
        "colab": {
          "base_uri": "https://localhost:8080/"
        },
        "id": "pGiFV_2qyC2O",
        "outputId": "991223f8-0784-47d9-cad4-da0b84029962"
      },
      "outputs": [
        {
          "output_type": "stream",
          "name": "stdout",
          "text": [
            "Drive already mounted at /content/drive; to attempt to forcibly remount, call drive.mount(\"/content/drive\", force_remount=True).\n"
          ]
        }
      ],
      "source": [
        "from google.colab import drive\n",
        "drive.mount('/content/drive')"
      ]
    },
    {
      "cell_type": "code",
      "source": [
        "import pandas as pd\n",
        "\n",
        "# Loading the dataset\n",
        "df = pd.read_csv(\"/content/Duplicate Annontation data.csv\")\n",
        "\n",
        "# Transforming the labels from -2 to +2 scale to 0 to 4 scale\n",
        "df['transformed_label'] = df['sentiment_score'] + 2"
      ],
      "metadata": {
        "id": "IMAB8ChUzUYO"
      },
      "execution_count": null,
      "outputs": []
    },
    {
      "cell_type": "code",
      "source": [
        "# Importing necessary libraries for fine-tuning DistilBERT\n",
        "from transformers import DistilBertTokenizer, DistilBertForSequenceClassification, AdamW\n",
        "from torch.utils.data import DataLoader, Dataset\n",
        "import pandas as pd\n",
        "from sklearn.model_selection import train_test_split\n",
        "import torch\n"
      ],
      "metadata": {
        "id": "NOFtvvBfy7N7"
      },
      "execution_count": null,
      "outputs": []
    },
    {
      "cell_type": "code",
      "source": [
        "# Initializing a DistilBERT tokenizer by loading the 'distilbert-base-uncased' pre-trained model\n",
        "tokenizer = DistilBertTokenizer.from_pretrained('distilbert-base-uncased')\n"
      ],
      "metadata": {
        "id": "KeizXWlizEZD"
      },
      "execution_count": null,
      "outputs": []
    },
    {
      "cell_type": "code",
      "source": [
        "from transformers import DistilBertTokenizer, DistilBertForSequenceClassification\n",
        "\n",
        "# Path to the saved model and tokenizer\n",
        "model_path = \"/content/drive/MyDrive/MyModelFolder\"\n",
        "\n",
        "# Reloading the tokenizer and model\n",
        "tokenizer = DistilBertTokenizer.from_pretrained(model_path)\n",
        "model = DistilBertForSequenceClassification.from_pretrained(model_path)\n",
        "\n",
        "# If GPU is available:\n",
        "device = torch.device('cuda' if torch.cuda.is_available() else 'cpu')\n",
        "model.to(device)"
      ],
      "metadata": {
        "colab": {
          "base_uri": "https://localhost:8080/"
        },
        "id": "usSiEuSIN-hm",
        "outputId": "19d7d1ef-bdf3-41f9-fc2c-6e355cf7e940"
      },
      "execution_count": null,
      "outputs": [
        {
          "output_type": "execute_result",
          "data": {
            "text/plain": [
              "DistilBertForSequenceClassification(\n",
              "  (distilbert): DistilBertModel(\n",
              "    (embeddings): Embeddings(\n",
              "      (word_embeddings): Embedding(30522, 768, padding_idx=0)\n",
              "      (position_embeddings): Embedding(512, 768)\n",
              "      (LayerNorm): LayerNorm((768,), eps=1e-12, elementwise_affine=True)\n",
              "      (dropout): Dropout(p=0.1, inplace=False)\n",
              "    )\n",
              "    (transformer): Transformer(\n",
              "      (layer): ModuleList(\n",
              "        (0-5): 6 x TransformerBlock(\n",
              "          (attention): MultiHeadSelfAttention(\n",
              "            (dropout): Dropout(p=0.1, inplace=False)\n",
              "            (q_lin): Linear(in_features=768, out_features=768, bias=True)\n",
              "            (k_lin): Linear(in_features=768, out_features=768, bias=True)\n",
              "            (v_lin): Linear(in_features=768, out_features=768, bias=True)\n",
              "            (out_lin): Linear(in_features=768, out_features=768, bias=True)\n",
              "          )\n",
              "          (sa_layer_norm): LayerNorm((768,), eps=1e-12, elementwise_affine=True)\n",
              "          (ffn): FFN(\n",
              "            (dropout): Dropout(p=0.1, inplace=False)\n",
              "            (lin1): Linear(in_features=768, out_features=3072, bias=True)\n",
              "            (lin2): Linear(in_features=3072, out_features=768, bias=True)\n",
              "            (activation): GELUActivation()\n",
              "          )\n",
              "          (output_layer_norm): LayerNorm((768,), eps=1e-12, elementwise_affine=True)\n",
              "        )\n",
              "      )\n",
              "    )\n",
              "  )\n",
              "  (pre_classifier): Linear(in_features=768, out_features=768, bias=True)\n",
              "  (classifier): Linear(in_features=768, out_features=5, bias=True)\n",
              "  (dropout): Dropout(p=0.2, inplace=False)\n",
              ")"
            ]
          },
          "metadata": {},
          "execution_count": 32
        }
      ]
    },
    {
      "cell_type": "code",
      "source": [
        "import pandas as pd\n",
        "import numpy as np\n",
        "from transformers import DistilBertTokenizer, DistilBertForSequenceClassification\n",
        "from torch.utils.data import DataLoader, Dataset\n",
        "import torch\n",
        "from sklearn.metrics import accuracy_score, precision_recall_fscore_support"
      ],
      "metadata": {
        "id": "TPaCKjpDMTA4"
      },
      "execution_count": null,
      "outputs": []
    },
    {
      "cell_type": "code",
      "source": [
        "\"\"\"\n",
        "Custom dataset class 'SentimentDataset' for handling text and label data.\n",
        "It uses a tokenizer to encode text inputs with specified settings such as max length, padding, and attention masks.\n",
        "Implements the __len__ and __getitem__ methods to enable an easy integration with PyTorch DataLoader for sentiment analysis tasks.\n",
        "\"\"\"\n",
        "\n",
        "class SentimentDataset(Dataset):\n",
        "    def __init__(self, texts, labels, tokenizer, max_len):\n",
        "        self.texts = texts\n",
        "        self.labels = labels\n",
        "        self.tokenizer = tokenizer\n",
        "        self.max_len = max_len\n",
        "\n",
        "    def __len__(self):\n",
        "        return len(self.texts)\n",
        "\n",
        "    def __getitem__(self, idx):\n",
        "        text = str(self.texts[idx])\n",
        "        label = self.labels[idx]\n",
        "\n",
        "        encoding = self.tokenizer.encode_plus(\n",
        "            text,\n",
        "            add_special_tokens=True,\n",
        "            max_length=self.max_len,\n",
        "            return_token_type_ids=False,\n",
        "            padding='max_length',\n",
        "            return_attention_mask=True,\n",
        "            return_tensors='pt',\n",
        "            truncation=True\n",
        "        )\n",
        "\n",
        "        return {\n",
        "            'input_ids': encoding['input_ids'].flatten(),\n",
        "            'attention_mask': encoding['attention_mask'].flatten(),\n",
        "            'labels': torch.tensor(label, dtype=torch.long)\n",
        "        }\n"
      ],
      "metadata": {
        "id": "RDNYKcH6PKbU"
      },
      "execution_count": null,
      "outputs": []
    },
    {
      "cell_type": "code",
      "source": [
        "# First split: Separating training set and a temporary set (combining validation and test)\n",
        "train_df, temp_df = train_test_split(df, test_size=0.3, random_state=42)\n",
        "\n",
        "# Second split: Separating the temporary set into validation and test sets\n",
        "val_df, test_df = train_test_split(temp_df, test_size=0.5, random_state=42)"
      ],
      "metadata": {
        "id": "bdol87MPO-lm"
      },
      "execution_count": null,
      "outputs": []
    },
    {
      "cell_type": "code",
      "source": [
        "train_dataset = SentimentDataset(\n",
        "    train_df['text_with_context'].to_numpy(),\n",
        "    train_df['transformed_label'].to_numpy(),\n",
        "    tokenizer,\n",
        "    max_len=196\n",
        ")\n",
        "\n",
        "val_dataset = SentimentDataset(\n",
        "    val_df['text_with_context'].to_numpy(),\n",
        "    val_df['transformed_label'].to_numpy(),\n",
        "    tokenizer,\n",
        "    max_len=196\n",
        ")\n"
      ],
      "metadata": {
        "id": "1X-6DN60O9wg"
      },
      "execution_count": null,
      "outputs": []
    },
    {
      "cell_type": "code",
      "source": [
        "test_dataset = SentimentDataset(\n",
        "    test_df['text_with_context'].to_numpy(),\n",
        "    test_df['transformed_label'].to_numpy(),\n",
        "    tokenizer,\n",
        "    max_len=196\n",
        ")\n",
        "\n",
        "test_loader = DataLoader(test_dataset, batch_size=16, shuffle=False)"
      ],
      "metadata": {
        "id": "3b0Rkj7iOsND"
      },
      "execution_count": null,
      "outputs": []
    },
    {
      "cell_type": "code",
      "source": [
        "# Putting the model in evaluation mode\n",
        "model.eval()\n",
        "\n",
        "# Initializing lists to store predictions and true labels\n",
        "test_predictions, test_true_labels = [], []\n",
        "\n",
        "# Evaluating the model\n",
        "with torch.no_grad():\n",
        "    for batch in test_loader:\n",
        "        input_ids = batch['input_ids'].to(device)\n",
        "        attention_mask = batch['attention_mask'].to(device)\n",
        "        labels = batch['labels'].to(device)\n",
        "\n",
        "        outputs = model(input_ids, attention_mask)\n",
        "        logits = outputs.logits\n",
        "\n",
        "        logits = logits.detach().cpu().numpy()\n",
        "        label_ids = labels.to('cpu').numpy()\n",
        "\n",
        "        test_predictions.extend(logits)\n",
        "        test_true_labels.extend(label_ids)\n",
        "\n",
        "# Converting logits to actual predictions\n",
        "test_predictions = np.argmax(test_predictions, axis=1)\n",
        "\n",
        "# Calculating accuracy, precision, recall, and F1 score\n",
        "accuracy = accuracy_score(test_true_labels, test_predictions)\n",
        "precision, recall, f1, _ = precision_recall_fscore_support(test_true_labels, test_predictions, average='weighted')\n",
        "\n",
        "print(f'Test Accuracy: {accuracy}')\n",
        "print(f'Test Precision: {precision}')\n",
        "print(f'Test Recall: {recall}')\n",
        "print(f'Test F1 Score: {f1}')\n"
      ],
      "metadata": {
        "colab": {
          "base_uri": "https://localhost:8080/"
        },
        "id": "zkPE3ZckUJ-I",
        "outputId": "176d4f08-5e66-476e-9e82-1d8d63552543"
      },
      "execution_count": null,
      "outputs": [
        {
          "output_type": "stream",
          "name": "stdout",
          "text": [
            "Test Accuracy: 0.5081967213114754\n",
            "Test Precision: 0.5807943690296631\n",
            "Test Recall: 0.5081967213114754\n",
            "Test F1 Score: 0.5208188603217688\n"
          ]
        }
      ]
    },
    {
      "cell_type": "code",
      "source": [
        "from sklearn.model_selection import KFold\n",
        "import numpy as np\n",
        "\n",
        "# Specifying number of splits for cross-validation\n",
        "n_splits = 3\n",
        "\n",
        "# Initializing KFold\n",
        "kf = KFold(n_splits=n_splits, shuffle=True, random_state=42)\n",
        "\n",
        "# Converting DataFrame columns to numpy for indexing in KFold\n",
        "texts = train_df['text_with_context'].to_numpy()\n",
        "text_labels = train_df['transformed_label'].to_numpy()"
      ],
      "metadata": {
        "id": "0qWt3moET5eL"
      },
      "execution_count": null,
      "outputs": []
    },
    {
      "cell_type": "code",
      "source": [
        "def create_data_loader(dataset, batch_size):\n",
        "    return DataLoader(dataset, batch_size=batch_size, shuffle=True)"
      ],
      "metadata": {
        "id": "v9AP8GCGeIX5"
      },
      "execution_count": null,
      "outputs": []
    },
    {
      "cell_type": "code",
      "source": [
        "print(\"Size of texts:\", len(texts))\n",
        "print(\"Size of labels:\", len(text_labels))\n"
      ],
      "metadata": {
        "colab": {
          "base_uri": "https://localhost:8080/"
        },
        "id": "hpDzpv-9ZgYv",
        "outputId": "022b9444-804f-41e0-83de-8a5d6ed727e3"
      },
      "execution_count": null,
      "outputs": [
        {
          "output_type": "stream",
          "name": "stdout",
          "text": [
            "Size of texts: 282\n",
            "Size of labels: 282\n"
          ]
        }
      ]
    },
    {
      "cell_type": "code",
      "source": [
        "\"\"\"\n",
        "Evaluates the performance of a given 'model' on a validation set provided by 'val_loader' using the specified 'device'.\n",
        "Computes accuracy, precision, recall, and F1 score.\n",
        "\"\"\"\n",
        "\n",
        "\n",
        "def evaluate_model_on_fold(model, val_loader, device):\n",
        "    model.eval()\n",
        "    predictions, true_text_labels = [], []\n",
        "\n",
        "    with torch.no_grad():\n",
        "        for batch in val_loader:\n",
        "            input_ids = batch['input_ids'].to(device)\n",
        "            attention_mask = batch['attention_mask'].to(device)\n",
        "            labels = batch['labels'].to(device)\n",
        "\n",
        "            outputs = model(input_ids, attention_mask)\n",
        "            logits = outputs.logits\n",
        "\n",
        "            logits = logits.detach().cpu().numpy()\n",
        "            label_ids = labels.to('cpu').numpy()\n",
        "\n",
        "            predictions.append(logits)\n",
        "            true_text_labels.append(label_ids)\n",
        "\n",
        "    predictions = np.argmax(np.concatenate(predictions, axis=0), axis=1)\n",
        "    true_text_labels = np.concatenate(true_text_labels, axis=0)\n",
        "\n",
        "    accuracy = accuracy_score(true_text_labels, predictions)\n",
        "    precision, recall, f1, _ = precision_recall_fscore_support(true_text_labels, predictions, average='weighted')\n",
        "\n",
        "    return accuracy, precision, recall, f1"
      ],
      "metadata": {
        "id": "JW-JykLWqNCq"
      },
      "execution_count": null,
      "outputs": []
    },
    {
      "cell_type": "code",
      "source": [
        "import pandas as pd\n",
        "import matplotlib.pyplot as plt\n",
        "import seaborn as sns\n"
      ],
      "metadata": {
        "id": "894Z_thk_01R"
      },
      "execution_count": null,
      "outputs": []
    },
    {
      "cell_type": "code",
      "source": [
        "# Computing normalized label distributions for training and test sets\n",
        "\n",
        "train_label_distribution = train_df['transformed_label'].value_counts(normalize=True)\n",
        "test_label_distribution = test_df['transformed_label'].value_counts(normalize=True)\n",
        "\n",
        "# Creating a DataFrame for easier comparison\n",
        "label_distribution_comparison = pd.DataFrame({'Train Set': train_label_distribution,\n",
        "                                              'Test Set': test_label_distribution})\n",
        "\n",
        "# Plotting\n",
        "label_distribution_comparison.plot(kind='bar')\n",
        "plt.title('Label Distribution in Train vs Test Set')\n",
        "plt.ylabel('Percentage')\n",
        "plt.show()\n"
      ],
      "metadata": {
        "colab": {
          "base_uri": "https://localhost:8080/",
          "height": 447
        },
        "id": "uyGZXdxu_2ln",
        "outputId": "7583a6a4-9c78-4105-8ffa-c58e294a8657"
      },
      "execution_count": null,
      "outputs": [
        {
          "output_type": "display_data",
          "data": {
            "text/plain": [
              "<Figure size 640x480 with 1 Axes>"
            ],
            "image/png": "[encoded data removed]"
          },
          "metadata": {}
        }
      ]
    },
    {
      "cell_type": "code",
      "source": [
        "from sklearn.model_selection import StratifiedKFold"
      ],
      "metadata": {
        "id": "gsXQn4rhL637"
      },
      "execution_count": null,
      "outputs": []
    },
    {
      "cell_type": "code",
      "source": [
        "# Specifying of splits for cross-validation\n",
        "n_splits = 3\n",
        "\n",
        "# Initializing StratifiedKFold\n",
        "skf = StratifiedKFold(n_splits=n_splits, shuffle=True, random_state=42)\n",
        "\n",
        "# Converting DataFrame columns to numpy for indexing in StratifiedKFold\n",
        "texts = train_df['text_with_context'].to_numpy()\n",
        "text_labels = train_df['transformed_label'].to_numpy()\n",
        "\n",
        "# Preparing to collect metrics\n",
        "cv_accuracy, cv_precision, cv_recall, cv_f1 = [], [], [], []\n",
        "\n",
        "for train_index, val_index in skf.split(texts, text_labels):\n",
        "    train_texts, val_texts = texts[train_index], texts[val_index]\n",
        "    train_text_labels, val_text_labels = text_labels[train_index], text_labels[val_index]\n",
        "\n",
        "    train_dataset = SentimentDataset(train_texts, train_text_labels, tokenizer, max_len=196)\n",
        "    val_dataset = SentimentDataset(val_texts, val_text_labels, tokenizer, max_len=196)\n",
        "    train_loader = create_data_loader(train_dataset, batch_size=16)\n",
        "    val_loader = create_data_loader(val_dataset, batch_size=16)\n",
        "\n",
        "    model = DistilBertForSequenceClassification.from_pretrained(model_path)\n",
        "    model.to(device)\n",
        "    optimizer = torch.optim.AdamW(model.parameters(), lr=5e-5)\n",
        "\n",
        "    for epoch in range(3):\n",
        "        model.train()\n",
        "        for batch in train_loader:\n",
        "            input_ids = batch['input_ids'].to(device)\n",
        "            attention_mask = batch['attention_mask'].to(device)\n",
        "            labels = batch['labels'].to(device)\n",
        "\n",
        "            outputs = model(input_ids, attention_mask=attention_mask, labels=labels)\n",
        "            loss = outputs.loss\n",
        "\n",
        "            optimizer.zero_grad()\n",
        "            loss.backward()\n",
        "            optimizer.step()\n",
        "\n",
        "    # Evaluating the model on the validation set\n",
        "    accuracy, precision, recall, f1 = evaluate_model_on_fold(model, val_loader, device)\n",
        "    cv_accuracy.append(accuracy)\n",
        "    cv_precision.append(precision)\n",
        "    cv_recall.append(recall)\n",
        "    cv_f1.append(f1)\n",
        "\n",
        "# Calculating average metrics across all folds\n",
        "avg_accuracy = np.mean(cv_accuracy)\n",
        "avg_precision = np.mean(cv_precision)\n",
        "avg_recall = np.mean(cv_recall)\n",
        "avg_f1 = np.mean(cv_f1)\n",
        "\n",
        "print(f\"Average Accuracy: {avg_accuracy}\")\n",
        "print(f\"Average Precision: {avg_precision}\")\n",
        "print(f\"Average Recall: {avg_recall}\")\n",
        "print(f\"Average F1 Score: {avg_f1}\")\n"
      ],
      "metadata": {
        "colab": {
          "base_uri": "https://localhost:8080/"
        },
        "id": "bXOCva3mME-r",
        "outputId": "803473a6-454f-42c4-e5f4-0a4e11e59d80"
      },
      "execution_count": null,
      "outputs": [
        {
          "output_type": "stream",
          "name": "stdout",
          "text": [
            "Average Accuracy: 0.9113475177304964\n",
            "Average Precision: 0.9153611627328774\n",
            "Average Recall: 0.9113475177304964\n",
            "Average F1 Score: 0.9100735485268571\n"
          ]
        }
      ]
    },
    {
      "cell_type": "code",
      "source": [
        "model.eval()\n"
      ],
      "metadata": {
        "colab": {
          "base_uri": "https://localhost:8080/"
        },
        "id": "bdXmpjetYZTj",
        "outputId": "db07b27e-5cda-421b-800e-14978b6aa913"
      },
      "execution_count": null,
      "outputs": [
        {
          "output_type": "execute_result",
          "data": {
            "text/plain": [
              "DistilBertForSequenceClassification(\n",
              "  (distilbert): DistilBertModel(\n",
              "    (embeddings): Embeddings(\n",
              "      (word_embeddings): Embedding(30522, 768, padding_idx=0)\n",
              "      (position_embeddings): Embedding(512, 768)\n",
              "      (LayerNorm): LayerNorm((768,), eps=1e-12, elementwise_affine=True)\n",
              "      (dropout): Dropout(p=0.1, inplace=False)\n",
              "    )\n",
              "    (transformer): Transformer(\n",
              "      (layer): ModuleList(\n",
              "        (0-5): 6 x TransformerBlock(\n",
              "          (attention): MultiHeadSelfAttention(\n",
              "            (dropout): Dropout(p=0.1, inplace=False)\n",
              "            (q_lin): Linear(in_features=768, out_features=768, bias=True)\n",
              "            (k_lin): Linear(in_features=768, out_features=768, bias=True)\n",
              "            (v_lin): Linear(in_features=768, out_features=768, bias=True)\n",
              "            (out_lin): Linear(in_features=768, out_features=768, bias=True)\n",
              "          )\n",
              "          (sa_layer_norm): LayerNorm((768,), eps=1e-12, elementwise_affine=True)\n",
              "          (ffn): FFN(\n",
              "            (dropout): Dropout(p=0.1, inplace=False)\n",
              "            (lin1): Linear(in_features=768, out_features=3072, bias=True)\n",
              "            (lin2): Linear(in_features=3072, out_features=768, bias=True)\n",
              "            (activation): GELUActivation()\n",
              "          )\n",
              "          (output_layer_norm): LayerNorm((768,), eps=1e-12, elementwise_affine=True)\n",
              "        )\n",
              "      )\n",
              "    )\n",
              "  )\n",
              "  (pre_classifier): Linear(in_features=768, out_features=768, bias=True)\n",
              "  (classifier): Linear(in_features=768, out_features=5, bias=True)\n",
              "  (dropout): Dropout(p=0.2, inplace=False)\n",
              ")"
            ]
          },
          "metadata": {},
          "execution_count": 47
        }
      ]
    },
    {
      "cell_type": "code",
      "source": [
        "# Generating predictions and true labels for the test set using the trained model\n",
        "\n",
        "test_predictions, test_true_labels = [], []\n",
        "\n",
        "with torch.no_grad():\n",
        "    for batch in test_loader:\n",
        "        input_ids = batch['input_ids'].to(device)\n",
        "        attention_mask = batch['attention_mask'].to(device)\n",
        "        labels = batch['labels'].to(device)\n",
        "\n",
        "        outputs = model(input_ids, attention_mask)\n",
        "        logits = outputs.logits\n",
        "\n",
        "        logits = logits.detach().cpu().numpy()\n",
        "        label_ids = labels.to('cpu').numpy()\n",
        "\n",
        "        test_predictions.extend(logits)\n",
        "        test_true_labels.extend(label_ids)\n",
        "\n",
        "# Converting logits to actual predictions\n",
        "test_predictions = np.argmax(test_predictions, axis=1)\n"
      ],
      "metadata": {
        "id": "evzqzOr7YbO7"
      },
      "execution_count": null,
      "outputs": []
    },
    {
      "cell_type": "code",
      "source": [
        "from sklearn.metrics import accuracy_score, precision_recall_fscore_support\n",
        "\n",
        "# Calculating accuracy, precision, recall, and F1 score\n",
        "accuracy = accuracy_score(test_true_labels, test_predictions)\n",
        "precision, recall, f1, _ = precision_recall_fscore_support(test_true_labels, test_predictions, average='weighted')\n",
        "\n",
        "print(f'Test Accuracy: {accuracy}')\n",
        "print(f'Test Precision: {precision}')\n",
        "print(f'Test Recall: {recall}')\n",
        "print(f'Test F1 Score: {f1}')\n"
      ],
      "metadata": {
        "colab": {
          "base_uri": "https://localhost:8080/"
        },
        "id": "q_3LDAQ2ZHhe",
        "outputId": "336dd564-624f-43bf-edcf-6414ade0cd45"
      },
      "execution_count": null,
      "outputs": [
        {
          "output_type": "stream",
          "name": "stdout",
          "text": [
            "Test Accuracy: 0.5573770491803278\n",
            "Test Precision: 0.6012584865043882\n",
            "Test Recall: 0.5573770491803278\n",
            "Test F1 Score: 0.5741040160671689\n"
          ]
        }
      ]
    },
    {
      "cell_type": "code",
      "source": [
        "import pandas as pd\n",
        "\n",
        "# Creating an error analysis DataFrame with the original text and context from the test set, along with true and predicted labels.\n",
        "\n",
        "error_analysis_df = test_df[['text_with_context']].copy()\n",
        "error_analysis_df['True_Label'] = test_true_labels\n",
        "error_analysis_df['Predicted_Label'] = test_predictions\n"
      ],
      "metadata": {
        "id": "cv-Az7dWwLlv"
      },
      "execution_count": null,
      "outputs": []
    },
    {
      "cell_type": "code",
      "source": [
        "incorrect_predictions_df = error_analysis_df[error_analysis_df['True_Label'] != error_analysis_df['Predicted_Label']]\n"
      ],
      "metadata": {
        "id": "nIRwaw_8wNSe"
      },
      "execution_count": null,
      "outputs": []
    },
    {
      "cell_type": "code",
      "source": [
        "# Analyzing errors by class\n",
        "errors_by_class = incorrect_predictions_df.groupby('True_Label').count()\n",
        "print(errors_by_class)\n",
        "\n",
        "# Analyzing errors by text length\n",
        "incorrect_predictions_df['Text_Length'] = incorrect_predictions_df['text_with_context'].apply(len)\n",
        "print(incorrect_predictions_df['Text_Length'].describe())\n"
      ],
      "metadata": {
        "id": "DJM_VQV0wVC0",
        "outputId": "d2d37bde-effc-4a3e-c0a4-db9f70663ae9",
        "colab": {
          "base_uri": "https://localhost:8080/"
        }
      },
      "execution_count": null,
      "outputs": [
        {
          "output_type": "stream",
          "name": "stdout",
          "text": [
            "            text_with_context  Predicted_Label\n",
            "True_Label                                    \n",
            "0                           5                5\n",
            "1                           6                6\n",
            "2                           6                6\n",
            "3                           6                6\n",
            "4                           4                4\n",
            "count      27.000000\n",
            "mean      408.481481\n",
            "std       276.191735\n",
            "min       130.000000\n",
            "25%       193.000000\n",
            "50%       263.000000\n",
            "75%       585.500000\n",
            "max      1056.000000\n",
            "Name: Text_Length, dtype: float64\n"
          ]
        },
        {
          "output_type": "stream",
          "name": "stderr",
          "text": [
            "<ipython-input-52-d9b35edc2bda>:6: SettingWithCopyWarning: \n",
            "A value is trying to be set on a copy of a slice from a DataFrame.\n",
            "Try using .loc[row_indexer,col_indexer] = value instead\n",
            "\n",
            "See the caveats in the documentation: https://pandas.pydata.org/pandas-docs/stable/user_guide/indexing.html#returning-a-view-versus-a-copy\n",
            "  incorrect_predictions_df['Text_Length'] = incorrect_predictions_df['text_with_context'].apply(len)\n"
          ]
        }
      ]
    },
    {
      "cell_type": "code",
      "source": [
        "# Randomly sampling some incorrect predictions for manual review\n",
        "print(incorrect_predictions_df.sample(n=20))\n"
      ],
      "metadata": {
        "colab": {
          "base_uri": "https://localhost:8080/"
        },
        "id": "P1KJV-NwzMlU",
        "outputId": "93fe8481-8984-44f2-a1c7-ea4f59bc0ad1"
      },
      "execution_count": null,
      "outputs": [
        {
          "output_type": "stream",
          "name": "stdout",
          "text": [
            "                                     text_with_context  True_Label  \\\n",
            "278  Unbearable Pain w/ No Relief [SEP] i also have...           2   \n",
            "77   Feeling lousy after methotrexate injection [SE...           0   \n",
            "131  Will i have my hands back? [SEP] that is heart...           0   \n",
            "180  Starting Rinvoq - Tell me the good & bad pleas...           4   \n",
            "331  Starting methotrexate next week [SEP] methotre...           4   \n",
            "192  Diagnosed with seronegative RA but something s...           3   \n",
            "275  I need suggestions for Rheumatoid Arthritis pa...           3   \n",
            "364  How long does it take for the effects of junky...           2   \n",
            "76   How to deal with the blues? [SEP] how long has...           1   \n",
            "9    I'm seeking advice for managing Rheumatoid Art...           0   \n",
            "282  How long does it take for the effects of junky...           2   \n",
            "265  How risky would flying long-distance be, takin...           2   \n",
            "392  Best Collagen Supplement or others for hair lo...           2   \n",
            "45   Low mood - methotrexate [SEP] i wasn't tested ...           1   \n",
            "73   Those of you who were diagnosed young, is ther...           1   \n",
            "79   Dry eyes? [SEP] almost exact same story here!!...           1   \n",
            "375  Finally changing meds! [SEP] thatâ€™s interest...           1   \n",
            "7    Methotrexate [SEP] could you explain your gi s...           1   \n",
            "126  Will i have my hands back? [SEP] that is dishe...           0   \n",
            "389  Methotrexate for RA [SEP] i have had no side e...           3   \n",
            "\n",
            "     Predicted_Label  Text_Length  \n",
            "278                1         1041  \n",
            "77                 1          130  \n",
            "131                1          545  \n",
            "180                2          187  \n",
            "331                3          254  \n",
            "192                2          188  \n",
            "275                1          357  \n",
            "364                3          133  \n",
            "76                 3          757  \n",
            "9                  1          628  \n",
            "282                4          522  \n",
            "265                4          626  \n",
            "392                1          245  \n",
            "45                 0          263  \n",
            "73                 2          181  \n",
            "79                 3          298  \n",
            "375                4          229  \n",
            "7                  3          167  \n",
            "126                1          545  \n",
            "389                4          149  \n"
          ]
        }
      ]
    },
    {
      "cell_type": "code",
      "source": [
        "import pandas as pd\n",
        "\n",
        "# Loading the main dataset for sentiment prediction\n",
        "large_df = pd.read_csv('/content/drive/MyDrive/validation_data.csv')  # Replace with your actual file path"
      ],
      "metadata": {
        "id": "Oc5-_FGkn0np"
      },
      "execution_count": null,
      "outputs": []
    },
    {
      "cell_type": "code",
      "source": [
        "from torch.utils.data import DataLoader\n",
        "\n",
        "class LargeDataset(Dataset):\n",
        "    def __init__(self, texts, tokenizer, max_len):\n",
        "        self.texts = texts\n",
        "        self.tokenizer = tokenizer\n",
        "        self.max_len = max_len\n",
        "\n",
        "    def __len__(self):\n",
        "        return len(self.texts)\n",
        "\n",
        "    def __getitem__(self, idx):\n",
        "        text = str(self.texts[idx])\n",
        "        encoding = self.tokenizer.encode_plus(\n",
        "            text,\n",
        "            add_special_tokens=True,\n",
        "            max_length=self.max_len,\n",
        "            return_token_type_ids=False,\n",
        "            padding='max_length',\n",
        "            return_attention_mask=True,\n",
        "            return_tensors='pt',\n",
        "            truncation=True\n",
        "        )\n",
        "        return {\n",
        "            'input_ids': encoding['input_ids'].flatten(),\n",
        "            'attention_mask': encoding['attention_mask'].flatten()\n",
        "        }\n",
        "\n",
        "# Creating a dataset for the larger dataset\n",
        "large_dataset = LargeDataset(large_df['text_with_context'], tokenizer, max_len=196)\n",
        "\n",
        "\n",
        "large_dataset = LargeDataset(large_df['text_with_context'], tokenizer, max_len=196)\n",
        "batch_size = 32\n",
        "large_loader = DataLoader(large_dataset, batch_size=batch_size, shuffle=False)"
      ],
      "metadata": {
        "id": "RSiLKQL9EmjK"
      },
      "execution_count": null,
      "outputs": []
    },
    {
      "cell_type": "code",
      "source": [
        "# Applying the trained model to the main dataset, saving backups periodically and printing progress updates. Handling batch processing errors, too.\n",
        "\n",
        "import torch\n",
        "\n",
        "model.eval()\n",
        "large_predictions = []\n",
        "total_batches = len(large_loader)\n",
        "processed_batches = 0\n",
        "backup_interval = 100  # Defining the interval for backups\n",
        "\n",
        "try:\n",
        "    with torch.no_grad():\n",
        "        for batch in large_loader:\n",
        "            input_ids = batch['input_ids'].to(device)\n",
        "            attention_mask = batch['attention_mask'].to(device)\n",
        "\n",
        "            try:\n",
        "                outputs = model(input_ids, attention_mask)\n",
        "                logits = outputs.logits\n",
        "                preds = torch.argmax(logits, dim=1)\n",
        "                large_predictions.extend(preds.cpu().numpy())\n",
        "            except Exception as e:\n",
        "                print(f\"Error processing batch: {e}\")\n",
        "\n",
        "            processed_batches += 1\n",
        "            if processed_batches % backup_interval == 0:\n",
        "                # Saving a backup of the predictions progressively\n",
        "                temp_df = large_df.iloc[:processed_batches * batch_size].copy()\n",
        "                temp_df['predicted_sentiment'] = large_predictions[:processed_batches * batch_size]\n",
        "                temp_df.to_csv('/content/drive/MyDrive/temp_predictions_backup.csv', index=False)\n",
        "                print(f\"Backup saved after processing {processed_batches} batches.\")\n",
        "\n",
        "            if processed_batches % 10 == 0:  # Printing progress every 10 batches\n",
        "                print(f\"Processed {processed_batches}/{total_batches} batches.\")\n",
        "except Exception as e:\n",
        "    print(f\"An error occurred during model application: {e}\")"
      ],
      "metadata": {
        "colab": {
          "base_uri": "https://localhost:8080/"
        },
        "id": "Bww6ThHtH8SJ",
        "outputId": "976090c0-fea4-4e05-bdc1-0fa6956de3b5"
      },
      "execution_count": null,
      "outputs": [
        {
          "output_type": "stream",
          "name": "stdout",
          "text": [
            "Processed 10/159 batches.\n",
            "Processed 20/159 batches.\n",
            "Processed 30/159 batches.\n",
            "Processed 40/159 batches.\n",
            "Processed 50/159 batches.\n",
            "Processed 60/159 batches.\n",
            "Processed 70/159 batches.\n",
            "Processed 80/159 batches.\n",
            "Processed 90/159 batches.\n",
            "Backup saved after processing 100 batches.\n",
            "Processed 100/159 batches.\n",
            "Processed 110/159 batches.\n",
            "Processed 120/159 batches.\n",
            "Processed 130/159 batches.\n",
            "Processed 140/159 batches.\n",
            "Processed 150/159 batches.\n"
          ]
        }
      ]
    },
    {
      "cell_type": "code",
      "source": [
        "# Saving the final predictions\n",
        "large_df['predicted_sentiment'] = large_predictions\n",
        "output_file = '/content/drive/MyDrive/final2_predictions.csv'\n",
        "large_df.to_csv(output_file, index=False)"
      ],
      "metadata": {
        "id": "WRlAU5itRQrM"
      },
      "execution_count": null,
      "outputs": []
    },
    {
      "cell_type": "code",
      "source": [
        "import pandas as pd\n",
        "\n",
        "# Replacing with the path with the CSV file containing the predictions\n",
        "predictions_file = '/content/drive/MyDrive/final2_predictions.csv'\n",
        "df = pd.read_csv(predictions_file)\n"
      ],
      "metadata": {
        "id": "dbj-gdmF89Gw"
      },
      "execution_count": null,
      "outputs": []
    },
    {
      "cell_type": "code",
      "source": [
        "# Plotting a bar chart to visualize the distribution of predicted sentiment categories\n",
        "\n",
        "import matplotlib.pyplot as plt\n",
        "\n",
        "\n",
        "sentiment_counts = df['predicted_sentiment'].value_counts()\n",
        "sentiment_counts.plot(kind='bar')\n",
        "plt.title('Distribution of Sentiment Categories')\n",
        "plt.xlabel('Sentiment Category')\n",
        "plt.ylabel('Frequency')\n",
        "plt.show()"
      ],
      "metadata": {
        "colab": {
          "base_uri": "https://localhost:8080/",
          "height": 467
        },
        "id": "F4hsqeXGVBFG",
        "outputId": "81a9a0df-4634-4727-80e2-1b35764b153e"
      },
      "execution_count": null,
      "outputs": [
        {
          "output_type": "display_data",
          "data": {
            "text/plain": [
              "<Figure size 640x480 with 1 Axes>"
            ],
            "image/png": "[encoded data removed]"
          },
          "metadata": {}
        }
      ]
    },
    {
      "cell_type": "code",
      "source": [
        "# calculating the percentage of each sentiment category\n",
        "sentiment_percentage = df['predicted_sentiment'].value_counts(normalize=True) * 100\n",
        "print(sentiment_percentage)"
      ],
      "metadata": {
        "colab": {
          "base_uri": "https://localhost:8080/"
        },
        "id": "-aP310QBVQCh",
        "outputId": "d1d046f2-870b-415c-98ad-837a393f7d70"
      },
      "execution_count": null,
      "outputs": [
        {
          "output_type": "stream",
          "name": "stdout",
          "text": [
            "2    50.798030\n",
            "1    22.837438\n",
            "3    17.280788\n",
            "4     6.995074\n",
            "0     2.088670\n",
            "Name: predicted_sentiment, dtype: float64\n"
          ]
        }
      ]
    },
    {
      "cell_type": "code",
      "source": [
        "#Specifying a sample size for manual review\n",
        "sample_size = 100\n",
        "validation2_sample = df.sample(n=sample_size, random_state=42)"
      ],
      "metadata": {
        "id": "ZhTHRDh9Vc0C"
      },
      "execution_count": null,
      "outputs": []
    },
    {
      "cell_type": "code",
      "source": [
        "validation2_sample.to_csv('/content/drive/MyDrive/manual_validation2_sample.csv', index=False)"
      ],
      "metadata": {
        "id": "Nc9yCRapVqWJ"
      },
      "execution_count": null,
      "outputs": []
    },
    {
      "cell_type": "code",
      "source": [
        "import pandas as pd\n",
        "from sklearn.metrics import accuracy_score, precision_score, recall_score, f1_score\n",
        "from sklearn.metrics import confusion_matrix, classification_report\n",
        "\n",
        "# Loading the dataset with predicted and manually annotated sentiment scores\n",
        "df = pd.read_csv('/content/new_manual_validation2_sample.csv')\n",
        "\n",
        "# Specifying columns containing predicted and manually annotated sentiment scores\n",
        "predicted_column = 'predicted_sentiment'\n",
        "manual_column = 'validation_scores'\n",
        "\n",
        "# Converting the sentiment scores to integers\n",
        "df[predicted_column] = df[predicted_column].astype(int)\n",
        "df[manual_column] = df[manual_column].astype(int)\n",
        "\n",
        "# Calculating metrics\n",
        "accuracy = accuracy_score(df[manual_column], df[predicted_column])\n",
        "precision = precision_score(df[manual_column], df[predicted_column], average='weighted')\n",
        "recall = recall_score(df[manual_column], df[predicted_column], average='weighted')\n",
        "f1 = f1_score(df[manual_column], df[predicted_column], average='weighted')\n",
        "\n",
        "# Confusion matrix and classification report\n",
        "conf_matrix = confusion_matrix(df[manual_column], df[predicted_column])\n",
        "class_report = classification_report(df[manual_column], df[predicted_column])\n",
        "\n",
        "# Printing the metrics\n",
        "print(f\"Accuracy: {accuracy}\")\n",
        "print(f\"Precision: {precision}\")\n",
        "print(f\"Recall: {recall}\")\n",
        "print(f\"F1 Score: {f1}\")\n",
        "\n",
        "# Printing confusion matrix and classification report\n",
        "print(\"Confusion Matrix:\")\n",
        "print(conf_matrix)\n",
        "print(\"\\nClassification Report:\")\n",
        "print(class_report)\n"
      ],
      "metadata": {
        "colab": {
          "base_uri": "https://localhost:8080/"
        },
        "id": "s2AiV6QOaOaq",
        "outputId": "3067e0bf-ff1e-4467-9d33-ea1b9760efeb"
      },
      "execution_count": null,
      "outputs": [
        {
          "output_type": "stream",
          "name": "stdout",
          "text": [
            "Accuracy: 0.46\n",
            "Precision: 0.46418325791855203\n",
            "Recall: 0.46\n",
            "F1 Score: 0.456423011239525\n",
            "Confusion Matrix:\n",
            "[[ 0  5  0  1  1]\n",
            " [ 1  3 11  3  1]\n",
            " [ 0  9 35  9  4]\n",
            " [ 0  0  5  6  2]\n",
            " [ 0  0  1  1  2]]\n",
            "\n",
            "Classification Report:\n",
            "              precision    recall  f1-score   support\n",
            "\n",
            "           0       0.00      0.00      0.00         7\n",
            "           1       0.18      0.16      0.17        19\n",
            "           2       0.67      0.61      0.64        57\n",
            "           3       0.30      0.46      0.36        13\n",
            "           4       0.20      0.50      0.29         4\n",
            "\n",
            "    accuracy                           0.46       100\n",
            "   macro avg       0.27      0.35      0.29       100\n",
            "weighted avg       0.46      0.46      0.46       100\n",
            "\n"
          ]
        }
      ]
    },
    {
      "cell_type": "code",
      "source": [
        "import matplotlib.pyplot as plt\n",
        "import seaborn as sns\n",
        "from sklearn.metrics import confusion_matrix, classification_report\n",
        "\n",
        "\n",
        "true_labels = df['validation_scores'].astype(int)\n",
        "predicted_labels = df['predicted_sentiment'].astype(int)\n",
        "\n",
        "# Plotting Confusion Matrix Heatmap\n",
        "cm = confusion_matrix(true_labels, predicted_labels)\n",
        "plt.figure(figsize=(8, 6))\n",
        "sns.heatmap(cm, annot=True, fmt=\"d\", cmap=\"Blues\", xticklabels=[0, 1, 2, 3, 4], yticklabels=[0, 1, 2, 3, 4])\n",
        "plt.title(\"Confusion Matrix\")\n",
        "plt.xlabel(\"Predicted Label\")\n",
        "plt.ylabel(\"True Label\")\n",
        "plt.show()\n",
        "\n",
        "# Precision, Recall, and F1 Score Bar Chart\n",
        "metrics = classification_report(true_labels, predicted_labels, target_names=[str(i) for i in range(5)], output_dict=True)\n",
        "precision = [metrics[str(i)]['precision'] for i in range(5)]\n",
        "recall = [metrics[str(i)]['recall'] for i in range(5)]\n",
        "f1 = [metrics[str(i)]['f1-score'] for i in range(5)]\n",
        "\n",
        "plt.figure(figsize=(10, 6))\n",
        "bar_width = 0.2\n",
        "index = range(5)\n",
        "plt.bar(index, precision, width=bar_width, label='Precision')\n",
        "plt.bar([i + bar_width for i in index], recall, width=bar_width, label='Recall')\n",
        "plt.bar([i + 2 * bar_width for i in index], f1, width=bar_width, label='F1 Score')\n",
        "plt.xlabel('Class')\n",
        "plt.ylabel('Score')\n",
        "plt.title('Precision, Recall, and F1 Score for Each Class')\n",
        "plt.xticks([i + bar_width for i in index], [str(i) for i in range(5)])\n",
        "plt.legend()\n",
        "plt.show()\n",
        "\n"
      ],
      "metadata": {
        "colab": {
          "base_uri": "https://localhost:8080/",
          "height": 1000
        },
        "id": "01SuE03Fp5y-",
        "outputId": "1681fd01-33c4-434f-a8dd-2adfd8e18a96"
      },
      "execution_count": null,
      "outputs": [
        {
          "output_type": "display_data",
          "data": {
            "text/plain": [
              "<Figure size 800x600 with 2 Axes>"
            ],
            "image/png": "[encoded data removed]"
          },
          "metadata": {}
        },
        {
          "output_type": "display_data",
          "data": {
            "text/plain": [
              "<Figure size 1000x600 with 1 Axes>"
            ],
            "image/png": "[encoded data removed]"
          },
          "metadata": {}
        }
      ]
    },
    {
      "cell_type": "code",
      "source": [
        "# Calculating the agreement rate between predicted sentiment labels and validation scores\n",
        "\n",
        "agreement_rate = (df['predicted_sentiment'] == df['validation_scores']).mean()\n",
        "print(f\"Agreement Rate: {agreement_rate:.2f}\")"
      ],
      "metadata": {
        "colab": {
          "base_uri": "https://localhost:8080/"
        },
        "id": "H4TYbsV4uBIZ",
        "outputId": "e1112141-2d17-4b68-8d62-0e0fcd2064e7"
      },
      "execution_count": null,
      "outputs": [
        {
          "output_type": "stream",
          "name": "stdout",
          "text": [
            "Agreement Rate: 0.46\n"
          ]
        }
      ]
    },
    {
      "cell_type": "code",
      "source": [
        "predicted_counts = df['predicted_sentiment'].value_counts()\n",
        "manual_counts = df['validation_scores'].value_counts()"
      ],
      "metadata": {
        "id": "4LXQKj7YxJfE"
      },
      "execution_count": null,
      "outputs": []
    },
    {
      "cell_type": "code",
      "source": [
        "import matplotlib.pyplot as plt\n",
        "\n",
        "# Setting up the matplotlib figure\n",
        "plt.figure(figsize=(14, 6))\n",
        "\n",
        "# Defining the order for the x-axis ticks\n",
        "sentiment_order = [0, 1, 2, 3, 4]\n",
        "\n",
        "# Bar chart for model's predictions\n",
        "plt.subplot(1, 2, 1)\n",
        "predicted_counts.loc[sentiment_order].plot(kind='bar', color='skyblue')\n",
        "plt.title('Distribution of Predicted Sentiments')\n",
        "plt.xlabel('Sentiment Categories')\n",
        "plt.ylabel('Frequency')\n",
        "plt.xticks(rotation=0)\n",
        "\n",
        "# Bar chart for manual annotations\n",
        "plt.subplot(1, 2, 2)\n",
        "manual_counts.loc[sentiment_order].plot(kind='bar', color='orange')\n",
        "plt.title('Distribution of Manual Annotations')\n",
        "plt.xlabel('Sentiment Categories')\n",
        "plt.ylabel('Frequency')\n",
        "plt.xticks(rotation=0)\n",
        "\n",
        "plt.tight_layout()\n",
        "plt.show()\n"
      ],
      "metadata": {
        "colab": {
          "base_uri": "https://localhost:8080/",
          "height": 417
        },
        "id": "J0YXPFw1yp57",
        "outputId": "8f1e55a3-a1bb-44d8-db21-b660da18a256"
      },
      "execution_count": null,
      "outputs": [
        {
          "output_type": "display_data",
          "data": {
            "text/plain": [
              "<Figure size 1400x600 with 2 Axes>"
            ],
            "image/png": "[encoded data removed]"
          },
          "metadata": {}
        }
      ]
    },
    {
      "cell_type": "code",
      "source": [
        "# Filtering the instances with disagreements\n",
        "disagreements = df[df['predicted_sentiment'] != df['validation_scores']]\n",
        "\n",
        "# Analyzing the distribution of disagreements\n",
        "disagreement_distribution = disagreements['validation_scores'].value_counts()\n",
        "print(disagreement_distribution)\n"
      ],
      "metadata": {
        "colab": {
          "base_uri": "https://localhost:8080/"
        },
        "id": "O2xx1wsyYOAV",
        "outputId": "7c1136ac-43ce-4786-87e6-2780764dd986"
      },
      "execution_count": null,
      "outputs": [
        {
          "output_type": "stream",
          "name": "stdout",
          "text": [
            "2    22\n",
            "1    16\n",
            "0     7\n",
            "3     7\n",
            "4     2\n",
            "Name: validation_scores, dtype: int64\n"
          ]
        }
      ]
    }
  ]
}